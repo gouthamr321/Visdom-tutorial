{
 "cells": [
  {
   "cell_type": "markdown",
   "metadata": {},
   "source": [
    "This script shows basic functionalities of visdom.\n",
    "\n",
    "To start the visdom server enter the following command in terminal:\n",
    "python -m visdom.server\n",
    "\n",
    "The visdom environment can be acessed in a browser at  http://localhost:8097\n"
   ]
  },
  {
   "cell_type": "code",
   "execution_count": null,
   "metadata": {},
   "outputs": [],
   "source": [
    "#Plotting some text\n",
    "import visdom\n",
    "import numpy as np\n",
    "#plot this text in a window\n",
    "vis = visdom.Visdom()\n",
    "vis.text('Hello World! Welcome to this tutorial on visdom')\n"
   ]
  },
  {
   "cell_type": "code",
   "execution_count": null,
   "metadata": {},
   "outputs": [],
   "source": [
    "#plotting an image to a visdom window\n",
    "import cv2\n",
    "\n",
    "img=cv2.imread('/Users/goutham/Development/DATASETS/Patch_based__HE_sampler/val/nuc/Spot_1_HE_patch_nuclei_60.png')\n",
    "img=np.transpose(img)  # the image must be in the format of CxHxW \n",
    "\n",
    "vis.image(\n",
    "        img,\n",
    "        win='old_img',\n",
    "        opts=dict(\n",
    "            title='H&E image',\n",
    "            height=256,\n",
    "            width=256,\n",
    "            store_history=1\n",
    "            )\n",
    "        \n",
    "    )\n"
   ]
  },
  {
   "cell_type": "code",
   "execution_count": null,
   "metadata": {},
   "outputs": [],
   "source": [
    "#Plotting a scatter plot\n",
    "X=np.random.rand(100, 2)\n",
    "X=np.arange(0,10)\n",
    "Y=np.random.rand(10)\n",
    "\n",
    "Z=np.column_stack((X,Y))\n",
    "# Input for a scatter plot must be a 2d or 3d matrix in format Nx2 or Nx3\n",
    "vis.scatter(\n",
    "        Z,\n",
    "        opts=dict(\n",
    "                xtickmin=0,\n",
    "                xtickmax=10,\n",
    "                xtickstep=1,\n",
    "                ytickmin=-1,\n",
    "                ytickmax=1,\n",
    "                ytickstep=.2,\n",
    "                legend=['Y','X'],\n",
    "                xlabel=('X'),\n",
    "                ylabel=('Y'),\n",
    "                title=('This is a scatter plot')\n",
    "               )\n",
    "        )"
   ]
  },
  {
   "cell_type": "code",
   "execution_count": null,
   "metadata": {},
   "outputs": [],
   "source": [
    "# plotting a line graph can specify Nx1 vector for x coordinates and another Nx1 vector for y coordinate.\n",
    "# This graph will be appended in a later cell\n",
    "A=np.arange(0,10)\n",
    "B=np.zeros(10)\n",
    "AB=np.column_stack((A,B))\n",
    "vis.line(\n",
    "        X=A,\n",
    "        Y=B,\n",
    "        win='old_line',\n",
    "        opts=dict(\n",
    "                title='line plot1 OLD',\n",
    "                xlabel='x',\n",
    "                ylabel='y',\n",
    "                legend=['A','B'])\n",
    "        )\n"
   ]
  },
  {
   "cell_type": "code",
   "execution_count": null,
   "metadata": {},
   "outputs": [],
   "source": [
    "# plotting multiple lines on the same graph\n",
    "A=np.random.rand(10)\n",
    "B=np.random.rand(10)\n",
    "AB=np.column_stack((A,B))\n",
    "vis.line(\n",
    "        X=np.arange(10),\n",
    "        Y=AB,\n",
    "        opts=dict(\n",
    "                title='line plot',\n",
    "                xlabel='x',\n",
    "                ylabel='y',\n",
    "                legend=['A','B']),\n",
    "        )\n",
    "        \n",
    "    \n",
    "    "
   ]
  },
  {
   "cell_type": "code",
   "execution_count": null,
   "metadata": {},
   "outputs": [],
   "source": [
    "# plotting a histogram\n",
    "A=np.random.rand(10)\n",
    "\n",
    "vis.histogram(A,\n",
    "              opts=dict(\n",
    "                      title='This is a histogram',\n",
    "                      xlabel='Variable of interest',\n",
    "                      ylabel='Frequency',\n",
    "                      numbins=3)\n",
    "              )"
   ]
  },
  {
   "cell_type": "code",
   "execution_count": null,
   "metadata": {},
   "outputs": [],
   "source": [
    "#updating a previous window\n",
    "X=np.arange(10,20) \n",
    "Y=np.random.rand(10)\n",
    "Z=np.column_stack((X,Y))\n",
    "vis.line(\n",
    "        X=X,\n",
    "        Y=Y,\n",
    "        win='old_line',\n",
    "        opts=dict(\n",
    "                title='line plot2',\n",
    "                xlabel='xhjhj',\n",
    "                ylabel='yhjhjhj',\n",
    "                legend=['A','B']\n",
    "                ),\n",
    "                update='apend'\n",
    "    \n",
    "        )"
   ]
  },
  {
   "cell_type": "markdown",
   "metadata": {},
   "source": [
    "Callbcks are a cool feature that allow the back end to react to events that happen in the front end. A few examples are shown below"
   ]
  },
  {
   "cell_type": "code",
   "execution_count": null,
   "metadata": {},
   "outputs": [],
   "source": [
    "#Callbacks on visdom\n",
    "def show_color_image_window(color, win=None):\n",
    "    image = np.full([3, 256, 256], color, dtype=float)\n",
    "    return vis.image(\n",
    "        image,\n",
    "        opts=dict(title='Colors', caption='Press arrows to alter color.'),\n",
    "        win=win\n",
    "        )\n",
    "\n",
    "image_color = 0\n",
    "callback_image_window = show_color_image_window(image_color)\n",
    "\n",
    "def image_callback(event):\n",
    "    global image_color\n",
    "    if event['event_type'] == 'KeyPress':\n",
    "        if event['key'] == 'ArrowRight':\n",
    "            image_color = min(image_color + 0.2, 1)\n",
    "        if event['key'] == 'ArrowLeft':\n",
    "            image_color = max(image_color - 0.2, 0)\n",
    "        show_color_image_window(image_color, callback_image_window)\n",
    "\n",
    "\n",
    "        \n",
    "vis.register_event_handler(image_callback, callback_image_window)\n"
   ]
  },
  {
   "cell_type": "code",
   "execution_count": null,
   "metadata": {},
   "outputs": [],
   "source": [
    "txt = 'This is a notepad'\n",
    "callback_text_window = vis.text(txt)\n",
    "\n",
    "def type_callback(event):\n",
    "        if event['event_type'] == 'KeyPress':\n",
    "            curr_txt = event['pane_data']['content']\n",
    "            if event['key'] == 'Enter':\n",
    "                curr_txt += '<br>'\n",
    "            elif event['key'] == 'Backspace':\n",
    "                curr_txt = curr_txt[:-1]\n",
    "            elif event['key'] == 'Delete':\n",
    "                curr_txt = txt\n",
    "            elif len(event['key']) == 1:\n",
    "                curr_txt += event['key']\n",
    "            vis.text(curr_txt, win=callback_text_window)\n",
    "\n",
    "\n",
    "vis.register_event_handler(type_callback, callback_text_window)"
   ]
  }
 ],
 "metadata": {
  "kernelspec": {
   "display_name": "Python 3",
   "language": "python",
   "name": "python3"
  },
  "language_info": {
   "codemirror_mode": {
    "name": "ipython",
    "version": 3
   },
   "file_extension": ".py",
   "mimetype": "text/x-python",
   "name": "python",
   "nbconvert_exporter": "python",
   "pygments_lexer": "ipython3",
   "version": "3.7.3"
  }
 },
 "nbformat": 4,
 "nbformat_minor": 2
}
